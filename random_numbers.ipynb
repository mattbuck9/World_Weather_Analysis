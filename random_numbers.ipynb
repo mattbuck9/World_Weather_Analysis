{
 "cells": [
  {
   "cell_type": "code",
   "execution_count": 1,
   "id": "d4870863",
   "metadata": {},
   "outputs": [],
   "source": [
    "# Import the random module\n",
    "import random"
   ]
  },
  {
   "cell_type": "code",
   "execution_count": 9,
   "id": "06111234",
   "metadata": {},
   "outputs": [
    {
     "data": {
      "text/plain": [
       "[5.4865359725216045,\n",
       " -0.509805909396096,\n",
       " 56.35766667180244,\n",
       " 27.845945483672153,\n",
       " 14.952965090613331,\n",
       " 67.16135492215007,\n",
       " -44.50389551611306,\n",
       " -17.9009594010873,\n",
       " -56.17128627525226,\n",
       " 63.59336254684488]"
      ]
     },
     "execution_count": 9,
     "metadata": {},
     "output_type": "execute_result"
    }
   ],
   "source": [
    "x = 1\n",
    "latitudes = []\n",
    "while x < 11:\n",
    "    random_lat = random.randint(-90, 89) + random.random()\n",
    "    latitudes.append(random_lat)\n",
    "    x += 1"
   ]
  },
  {
   "cell_type": "code",
   "execution_count": 10,
   "id": "6eb1e3a3",
   "metadata": {},
   "outputs": [
    {
     "data": {
      "text/plain": [
       "-79"
      ]
     },
     "execution_count": 10,
     "metadata": {},
     "output_type": "execute_result"
    }
   ],
   "source": [
    "random.randrange(-90, 90, step=1)"
   ]
  },
  {
   "cell_type": "code",
   "execution_count": 11,
   "id": "e9f1dae2",
   "metadata": {},
   "outputs": [
    {
     "data": {
      "text/plain": [
       "30"
      ]
     },
     "execution_count": 11,
     "metadata": {},
     "output_type": "execute_result"
    }
   ],
   "source": [
    "random.randrange(-90, 90, step=3)"
   ]
  },
  {
   "cell_type": "code",
   "execution_count": 12,
   "id": "e5c8d554",
   "metadata": {},
   "outputs": [
    {
     "data": {
      "text/plain": [
       "78.23783040009411"
      ]
     },
     "execution_count": 12,
     "metadata": {},
     "output_type": "execute_result"
    }
   ],
   "source": [
    "random.uniform(-90, 90)"
   ]
  },
  {
   "cell_type": "code",
   "execution_count": 13,
   "id": "6771d7cd",
   "metadata": {},
   "outputs": [],
   "source": [
    "# Import NumPy module.\n",
    "import numpy as np"
   ]
  },
  {
   "cell_type": "code",
   "execution_count": 14,
   "id": "8afbe539",
   "metadata": {},
   "outputs": [
    {
     "data": {
      "text/plain": [
       "-60.95639485346972"
      ]
     },
     "execution_count": 14,
     "metadata": {},
     "output_type": "execute_result"
    }
   ],
   "source": [
    "np.random.uniform(-90.000, 90.000)"
   ]
  },
  {
   "cell_type": "code",
   "execution_count": 15,
   "id": "e4546057",
   "metadata": {},
   "outputs": [
    {
     "data": {
      "text/plain": [
       "51.30291704315334"
      ]
     },
     "execution_count": 15,
     "metadata": {},
     "output_type": "execute_result"
    }
   ],
   "source": [
    "np.random.uniform(low=-90, high=90)"
   ]
  },
  {
   "cell_type": "code",
   "execution_count": 17,
   "id": "816de639",
   "metadata": {},
   "outputs": [
    {
     "data": {
      "text/plain": [
       "array([ 54.12214178,  56.43472076, -89.67640009,  -2.25768038,\n",
       "       -67.02633909, -63.37859618, -16.88730735,  40.95560894,\n",
       "       -30.31242844, -19.3929839 , -40.60120586,  59.65593587,\n",
       "         9.1946857 ,  48.5444359 , -84.17881514,  51.80900639,\n",
       "        36.87717888, -75.28751128, -58.30901926,  76.17861911,\n",
       "       -10.514064  , -32.42343529, -33.47298328, -70.87509526,\n",
       "        48.86029133, -29.98374258,  86.28593008, -26.89171918,\n",
       "        -6.51860941, -69.82151639,   6.61285157,  62.39966687,\n",
       "       -39.21519807,  24.49644689, -82.2039403 ,   0.45252296,\n",
       "        88.89421461,   5.40758185, -82.96248926,  -1.48070266,\n",
       "       -76.15354771,  19.38175933, -31.08708484, -18.15080749,\n",
       "       -17.17633527, -27.62047088,  61.00158115, -19.51917744,\n",
       "        39.5014139 ,  18.10288319])"
      ]
     },
     "execution_count": 17,
     "metadata": {},
     "output_type": "execute_result"
    }
   ],
   "source": [
    "np.random.uniform(-90.000, 90.000, size=50)"
   ]
  },
  {
   "cell_type": "code",
   "execution_count": 18,
   "id": "a0e49331",
   "metadata": {},
   "outputs": [
    {
     "name": "stdout",
     "output_type": "stream",
     "text": [
      "18.6 µs ± 1.16 µs per loop (mean ± std. dev. of 7 runs, 100,000 loops each)\n"
     ]
    }
   ],
   "source": [
    "# Import timeit.\n",
    "import timeit\n",
    "\n",
    "%timeit np.random.uniform(-90.000, 90.000, size=1500)"
   ]
  },
  {
   "cell_type": "code",
   "execution_count": 19,
   "id": "083e039c",
   "metadata": {},
   "outputs": [
    {
     "name": "stdout",
     "output_type": "stream",
     "text": [
      "1.94 ms ± 174 µs per loop (mean ± std. dev. of 7 runs, 100 loops each)\n"
     ]
    }
   ],
   "source": [
    "def latitudes(size):\n",
    "    latitudes = []\n",
    "    x = 0\n",
    "    while x < (size):\n",
    "        random_lat = random.randint(-90, 90) + random.random()\n",
    "        latitudes.append(random_lat)\n",
    "        x += 1\n",
    "    return latitudes\n",
    "# Call the function with 1500\n",
    "%timeit latitudes(1500)"
   ]
  },
  {
   "cell_type": "code",
   "execution_count": null,
   "id": "4904564c",
   "metadata": {},
   "outputs": [],
   "source": []
  }
 ],
 "metadata": {
  "kernelspec": {
   "display_name": "PythonData1",
   "language": "python",
   "name": "pythondata1"
  },
  "language_info": {
   "codemirror_mode": {
    "name": "ipython",
    "version": 3
   },
   "file_extension": ".py",
   "mimetype": "text/x-python",
   "name": "python",
   "nbconvert_exporter": "python",
   "pygments_lexer": "ipython3",
   "version": "3.9.12"
  }
 },
 "nbformat": 4,
 "nbformat_minor": 5
}
